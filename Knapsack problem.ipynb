{
  "nbformat": 4,
  "nbformat_minor": 0,
  "metadata": {
    "colab": {
      "name": "Untitled1.ipynb",
      "provenance": [],
      "authorship_tag": "ABX9TyML82/v4U32G4gA/29huaH5",
      "include_colab_link": true
    },
    "kernelspec": {
      "name": "python3",
      "display_name": "Python 3"
    }
  },
  "cells": [
    {
      "cell_type": "markdown",
      "metadata": {
        "id": "view-in-github",
        "colab_type": "text"
      },
      "source": [
        "<a href=\"https://colab.research.google.com/github/lucassaquett/Problemas_Classicos_Otimizacao/blob/main/Knapsack%20problem.ipynb\" target=\"_parent\"><img src=\"https://colab.research.google.com/assets/colab-badge.svg\" alt=\"Open In Colab\"/></a>"
      ]
    },
    {
      "cell_type": "code",
      "metadata": {
        "colab": {
          "base_uri": "https://localhost:8080/"
        },
        "id": "-imrVXpmkC6d",
        "outputId": "8d7e5a9a-bcc3-4047-f41b-f8cd496103eb"
      },
      "source": [
        "!pip install mip\r\n"
      ],
      "execution_count": null,
      "outputs": [
        {
          "output_type": "stream",
          "text": [
            "Requirement already satisfied: mip in /usr/local/lib/python3.7/dist-packages (1.13.0)\n",
            "Requirement already satisfied: cffi in /usr/local/lib/python3.7/dist-packages (from mip) (1.14.5)\n",
            "Requirement already satisfied: pycparser in /usr/local/lib/python3.7/dist-packages (from cffi->mip) (2.20)\n"
          ],
          "name": "stdout"
        }
      ]
    },
    {
      "cell_type": "code",
      "metadata": {
        "id": "eCb6EronkVdh"
      },
      "source": [
        "from mip import Model, xsum, MAXIMIZE, BINARY\r\n"
      ],
      "execution_count": null,
      "outputs": []
    },
    {
      "cell_type": "code",
      "metadata": {
        "id": "wA8ai2HYkhZX"
      },
      "source": [
        "p = [10,13,18,31,7,15]\r\n",
        "l = [11,15,20,35,10,33]\r\n",
        "\r\n",
        "c =47\r\n",
        "n_items = len(p)\r\n",
        "\r\n",
        "m = Model('Knapsack',sense=MAXIMIZE)\r\n"
      ],
      "execution_count": null,
      "outputs": []
    },
    {
      "cell_type": "code",
      "metadata": {
        "id": "RNZaWBA6m__C"
      },
      "source": [
        "x = [m.add_var(var_type=BINARY) for i in range (n_items)]"
      ],
      "execution_count": null,
      "outputs": []
    },
    {
      "cell_type": "code",
      "metadata": {
        "id": "sTgq-j9ppSAO"
      },
      "source": [
        "m.objective = xsum(l[i]*x[i] for i in range(n_items))"
      ],
      "execution_count": null,
      "outputs": []
    },
    {
      "cell_type": "code",
      "metadata": {
        "id": "Jx2oiPTNrSBN"
      },
      "source": [
        "m += xsum(p[i]*x[i] for i in range(n_items)) <= c"
      ],
      "execution_count": null,
      "outputs": []
    },
    {
      "cell_type": "code",
      "metadata": {
        "colab": {
          "base_uri": "https://localhost:8080/"
        },
        "id": "DXJu3R1nsQw8",
        "outputId": "174a00e0-e2fc-43b2-aa57-b2a9de569829"
      },
      "source": [
        "m.optimize()\r\n"
      ],
      "execution_count": null,
      "outputs": [
        {
          "output_type": "execute_result",
          "data": {
            "text/plain": [
              "<OptimizationStatus.OPTIMAL: 0>"
            ]
          },
          "metadata": {
            "tags": []
          },
          "execution_count": 7
        }
      ]
    },
    {
      "cell_type": "code",
      "metadata": {
        "colab": {
          "base_uri": "https://localhost:8080/"
        },
        "id": "wo7lgQeas-7M",
        "outputId": "c9329572-ab3e-4cfe-d68b-b2986e26dad0"
      },
      "source": [
        "print([(x[i].x) for i in range(n_items)])"
      ],
      "execution_count": null,
      "outputs": [
        {
          "output_type": "stream",
          "text": [
            "[1.0, 1.0, 0.0, 0.0, 1.0, 1.0]\n"
          ],
          "name": "stdout"
        }
      ]
    }
  ]
}